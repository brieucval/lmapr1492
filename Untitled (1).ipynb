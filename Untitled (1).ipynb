{
 "cells": [
  {
   "cell_type": "markdown",
   "id": "635c9219",
   "metadata": {},
   "source": [
    "# Structure de bandes électroniques du YNiSb"
   ]
  },
  {
   "cell_type": "code",
   "execution_count": 56,
   "id": "9dfd661e",
   "metadata": {},
   "outputs": [],
   "source": [
    "from pymatgen.ext.matproj import MPRester\n",
    "from pymatgen.electronic_structure.plotter import BSPlotter\n",
    "import matplotlib.pyplot as plt\n",
    "import numpy as np"
   ]
  },
  {
   "cell_type": "code",
   "execution_count": 57,
   "id": "d95f86c2",
   "metadata": {},
   "outputs": [
    {
     "ename": "MPRestError",
     "evalue": "REST query returned with error status code 503. Content: b'<!DOCTYPE HTML PUBLIC \"-//IETF//DTD HTML 2.0//EN\">\\n<html><head>\\n<title>503 Service Unavailable</title>\\n</head><body>\\n<h1>Service Unavailable</h1>\\n<p>The server is temporarily unable to service your\\nrequest due to maintenance downtime or capacity\\nproblems. Please try again later.</p>\\n<hr>\\n<address>Apache/2.4.41 (Ubuntu) Server at legacy.materialsproject.org Port 80</address>\\n</body></html>\\n'",
     "output_type": "error",
     "traceback": [
      "\u001b[0;31m---------------------------------------------------------------------------\u001b[0m",
      "\u001b[0;31mMPRestError\u001b[0m                               Traceback (most recent call last)",
      "\u001b[0;32m/usr/local/lib64/python3.6/site-packages/pymatgen/ext/matproj.py\u001b[0m in \u001b[0;36m_make_request\u001b[0;34m(self, sub_url, payload, method, mp_decode)\u001b[0m\n\u001b[1;32m    258\u001b[0m                 \"REST query returned with error status code {}\".format(\n\u001b[0;32m--> 259\u001b[0;31m                     \u001b[0mresponse\u001b[0m\u001b[0;34m.\u001b[0m\u001b[0mstatus_code\u001b[0m\u001b[0;34m\u001b[0m\u001b[0;34m\u001b[0m\u001b[0m\n\u001b[0m\u001b[1;32m    260\u001b[0m                 )\n",
      "\u001b[0;31mMPRestError\u001b[0m: REST query returned with error status code 503",
      "\nDuring handling of the above exception, another exception occurred:\n",
      "\u001b[0;31mMPRestError\u001b[0m                               Traceback (most recent call last)",
      "\u001b[0;32m<ipython-input-57-dea4a5e1eeda>\u001b[0m in \u001b[0;36m<module>\u001b[0;34m\u001b[0m\n\u001b[0;32m----> 1\u001b[0;31m \u001b[0;32mwith\u001b[0m \u001b[0mMPRester\u001b[0m\u001b[0;34m(\u001b[0m\u001b[0;34m\"UqmxSipJO7BDQgI4\"\u001b[0m\u001b[0;34m)\u001b[0m \u001b[0;32mas\u001b[0m \u001b[0mmp\u001b[0m\u001b[0;34m:\u001b[0m\u001b[0;34m\u001b[0m\u001b[0;34m\u001b[0m\u001b[0m\n\u001b[0m\u001b[1;32m      2\u001b[0m     \u001b[0mband\u001b[0m \u001b[0;34m=\u001b[0m \u001b[0mmp\u001b[0m\u001b[0;34m.\u001b[0m\u001b[0mget_bandstructure_by_material_id\u001b[0m\u001b[0;34m(\u001b[0m\u001b[0;34m\"mp-11520\"\u001b[0m\u001b[0;34m)\u001b[0m\u001b[0;34m\u001b[0m\u001b[0;34m\u001b[0m\u001b[0m\n",
      "\u001b[0;32m/usr/local/lib64/python3.6/site-packages/pymatgen/ext/matproj.py\u001b[0m in \u001b[0;36m__init__\u001b[0;34m(self, api_key, endpoint, notify_db_version, include_user_agent)\u001b[0m\n\u001b[1;32m    192\u001b[0m \u001b[0;34m\u001b[0m\u001b[0m\n\u001b[1;32m    193\u001b[0m         \u001b[0;32mif\u001b[0m \u001b[0mnotify_db_version\u001b[0m\u001b[0;34m:\u001b[0m\u001b[0;34m\u001b[0m\u001b[0;34m\u001b[0m\u001b[0m\n\u001b[0;32m--> 194\u001b[0;31m             \u001b[0mdb_version\u001b[0m \u001b[0;34m=\u001b[0m \u001b[0mself\u001b[0m\u001b[0;34m.\u001b[0m\u001b[0mget_database_version\u001b[0m\u001b[0;34m(\u001b[0m\u001b[0;34m)\u001b[0m\u001b[0;34m\u001b[0m\u001b[0;34m\u001b[0m\u001b[0m\n\u001b[0m\u001b[1;32m    195\u001b[0m             logger.info(\n\u001b[1;32m    196\u001b[0m                 \u001b[0;34mf\"Connection established to Materials Project database, version {db_version}.\"\u001b[0m\u001b[0;34m\u001b[0m\u001b[0;34m\u001b[0m\u001b[0m\n",
      "\u001b[0;32m/usr/local/lib64/python3.6/site-packages/pymatgen/ext/matproj.py\u001b[0m in \u001b[0;36mget_database_version\u001b[0;34m(self)\u001b[0m\n\u001b[1;32m    283\u001b[0m         \u001b[0mReturns\u001b[0m\u001b[0;34m:\u001b[0m \u001b[0mdatabase\u001b[0m \u001b[0mversion\u001b[0m \u001b[0;32mas\u001b[0m \u001b[0ma\u001b[0m \u001b[0mstring\u001b[0m\u001b[0;34m\u001b[0m\u001b[0;34m\u001b[0m\u001b[0m\n\u001b[1;32m    284\u001b[0m         \"\"\"\n\u001b[0;32m--> 285\u001b[0;31m         \u001b[0md\u001b[0m \u001b[0;34m=\u001b[0m \u001b[0mself\u001b[0m\u001b[0;34m.\u001b[0m\u001b[0m_make_request\u001b[0m\u001b[0;34m(\u001b[0m\u001b[0;34m\"/api_check\"\u001b[0m\u001b[0;34m)\u001b[0m\u001b[0;34m\u001b[0m\u001b[0;34m\u001b[0m\u001b[0m\n\u001b[0m\u001b[1;32m    286\u001b[0m         \u001b[0;32mreturn\u001b[0m \u001b[0md\u001b[0m\u001b[0;34m[\u001b[0m\u001b[0;34m\"version\"\u001b[0m\u001b[0;34m]\u001b[0m\u001b[0;34m[\u001b[0m\u001b[0;34m\"db\"\u001b[0m\u001b[0;34m]\u001b[0m\u001b[0;34m\u001b[0m\u001b[0;34m\u001b[0m\u001b[0m\n\u001b[1;32m    287\u001b[0m \u001b[0;34m\u001b[0m\u001b[0m\n",
      "\u001b[0;32m/usr/local/lib64/python3.6/site-packages/pymatgen/ext/matproj.py\u001b[0m in \u001b[0;36m_make_request\u001b[0;34m(self, sub_url, payload, method, mp_decode)\u001b[0m\n\u001b[1;32m    267\u001b[0m                 \u001b[0;32melse\u001b[0m \u001b[0mstr\u001b[0m\u001b[0;34m(\u001b[0m\u001b[0mex\u001b[0m\u001b[0;34m)\u001b[0m\u001b[0;34m\u001b[0m\u001b[0;34m\u001b[0m\u001b[0m\n\u001b[1;32m    268\u001b[0m             )\n\u001b[0;32m--> 269\u001b[0;31m             \u001b[0;32mraise\u001b[0m \u001b[0mMPRestError\u001b[0m\u001b[0;34m(\u001b[0m\u001b[0mmsg\u001b[0m\u001b[0;34m)\u001b[0m\u001b[0;34m\u001b[0m\u001b[0;34m\u001b[0m\u001b[0m\n\u001b[0m\u001b[1;32m    270\u001b[0m \u001b[0;34m\u001b[0m\u001b[0m\n\u001b[1;32m    271\u001b[0m     \u001b[0;32mdef\u001b[0m \u001b[0mget_database_version\u001b[0m\u001b[0;34m(\u001b[0m\u001b[0mself\u001b[0m\u001b[0;34m)\u001b[0m\u001b[0;34m:\u001b[0m\u001b[0;34m\u001b[0m\u001b[0;34m\u001b[0m\u001b[0m\n",
      "\u001b[0;31mMPRestError\u001b[0m: REST query returned with error status code 503. Content: b'<!DOCTYPE HTML PUBLIC \"-//IETF//DTD HTML 2.0//EN\">\\n<html><head>\\n<title>503 Service Unavailable</title>\\n</head><body>\\n<h1>Service Unavailable</h1>\\n<p>The server is temporarily unable to service your\\nrequest due to maintenance downtime or capacity\\nproblems. Please try again later.</p>\\n<hr>\\n<address>Apache/2.4.41 (Ubuntu) Server at legacy.materialsproject.org Port 80</address>\\n</body></html>\\n'"
     ]
    }
   ],
   "source": [
    "with MPRester(\"UqmxSipJO7BDQgI4\") as mp:\n",
    "    band = mp.get_bandstructure_by_material_id(\"mp-11520\")"
   ]
  },
  {
   "cell_type": "markdown",
   "id": "a9c58ab5",
   "metadata": {},
   "source": [
    "# Bande interdite"
   ]
  },
  {
   "cell_type": "code",
   "execution_count": null,
   "id": "c37f42a0",
   "metadata": {},
   "outputs": [],
   "source": [
    "#On trouve les informations sur la bande interdite\n",
    "gap = band.get_band_gap()\n",
    "\n",
    "print(\"L'énergie de la bande interdite est : \" + str(gap.get('energy'))+\" eV\")\n",
    "print(\"Est ce une bande interdite directe ? \" + str(gap.get('direct')))\n",
    "print(\"Transition dans la bande interdite : \" + str(gap.get('transition')))"
   ]
  },
  {
   "cell_type": "markdown",
   "id": "f64dcd7e",
   "metadata": {},
   "source": [
    "Ici, l'énergie de la bande interdite est de 0,29eV, ce qui correspond à une taille de bande interdite d'un semi-conducteur.\n",
    "Ici, la bande interdite est indirecte. Cela veut dire que le minimum de la bande de conduction et le maximum de la bande de valence ne sont pas alignés."
   ]
  },
  {
   "cell_type": "code",
   "execution_count": null,
   "id": "d0b1b3ec",
   "metadata": {},
   "outputs": [],
   "source": [
    "plot = BSPlotter(band)\n",
    "plot.get_plot(vbm_cbm_marker=True)"
   ]
  },
  {
   "cell_type": "markdown",
   "id": "89b30627",
   "metadata": {},
   "source": [
    "# Première bande de conduction et première bande de valence"
   ]
  },
  {
   "cell_type": "code",
   "execution_count": null,
   "id": "f5f08c71",
   "metadata": {},
   "outputs": [],
   "source": [
    "bs = BSPlotter(band)\n",
    "data = bs.bs_plot_data()\n",
    "\n",
    "#On récupère le maximum et le minimum des bandes de valence et de conduction respectivement ainsi que les numéros de bandes associés\n",
    "vbm = band.get_vbm()\n",
    "cbm = band.get_cbm()\n",
    "\n",
    "#On récupère les différentes valeurs d'énergie et les distances associées au directions\n",
    "energy = data.get('energy') \n",
    "distances = data.get('distances')\n",
    "\n",
    "print(\"Bande contenant le 'Valence Band Maximum' (VBM) : \",str(vbm.get('band_index')))\n",
    "\n",
    "print(\"Bande contenant le 'Conduction Band Minimum (CBM) : \",str(cbm.get('band_index')))\n",
    "\n",
    "print(\"La dernière bande de valence est la 15ème et la première bande de conduction est la 16ème\")"
   ]
  },
  {
   "cell_type": "code",
   "execution_count": null,
   "id": "85295b5d",
   "metadata": {},
   "outputs": [],
   "source": [
    "#Calcul des directions des pentes les plus fortes\n",
    "\n",
    "def pente(x,y):\n",
    "\n",
    "    slope = abs(y[-1]-y[0])/(x[-1]-x[0])\n",
    "    \n",
    "    return np.array([slope,x[0],y[0],x[-1]-x[0],y[-1]-y[0]])\n",
    "\n",
    "\n",
    "\n",
    "pente_valence = np.zeros((len(distances), 5)) #distances est défini plus haut\n",
    "pente_conduction = np.zeros((len(distances), 5))\n",
    "\n",
    "#Calcul de la pente pour chaque direction de la dernière bande de valence et la première bande de conduction\n",
    "for i in range(len(distances)-1):\n",
    "    pente_valence[i] = pente(distances[i],distances[i+1])\n",
    "    pente_conduction[i] =  pente(distances[i],distances[i+1])\n",
    "    \n",
    "\n",
    "\n",
    "\n",
    "pente_valence = pente_valence.T        #on transpose les vecteurs\n",
    "pente_conduction = pente_conduction.T\n",
    "\n",
    "# On récupère l'indice des minimums et maximums\n",
    "MaxVal = np.argmax(pente_valence[0])\n",
    "MaxCond = np.argmax(pente_conduction[0]) \n",
    "MinVal = np.argmin(pente_valence[0])\n",
    "MinCond = np.argmin(pente_conduction[0])\n",
    "\n",
    "\n",
    "print(\"la pente maximale pour la bande de conduction vaut \"+str(distances[0][MaxCond]))\n",
    "print(\"la pente minimale pour la bande de conduction vaut \"+str(distances[0][MinCond]))\n",
    "print(\"la pente maximale pour la bande de valence vaut \"+str(distances[0][MaxVal]))\n",
    "print(\"la pente minimale pour la bande de valence vaut \"+str(distances[0][MinVal]))\n",
    "\n",
    "\n"
   ]
  },
  {
   "cell_type": "code",
   "execution_count": null,
   "id": "d49a9574",
   "metadata": {},
   "outputs": [],
   "source": []
  },
  {
   "cell_type": "code",
   "execution_count": null,
   "id": "7027687e",
   "metadata": {},
   "outputs": [],
   "source": []
  }
 ],
 "metadata": {
  "kernelspec": {
   "display_name": "Python 3",
   "language": "python",
   "name": "python3"
  },
  "language_info": {
   "codemirror_mode": {
    "name": "ipython",
    "version": 3
   },
   "file_extension": ".py",
   "mimetype": "text/x-python",
   "name": "python",
   "nbconvert_exporter": "python",
   "pygments_lexer": "ipython3",
   "version": "3.6.8"
  }
 },
 "nbformat": 4,
 "nbformat_minor": 5
}
