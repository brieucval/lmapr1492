{
 "cells": [
  {
   "cell_type": "code",
   "execution_count": 26,
   "id": "5294880f",
   "metadata": {},
   "outputs": [
    {
     "name": "stdout",
     "output_type": "stream",
     "text": [
      "Full Formula (Y1 Ni1 Sb1)\n",
      "Reduced Formula: YNiSb\n",
      "abc   :   4.499705   4.499705   4.499705\n",
      "angles:  60.000000  60.000000  60.000000\n",
      "Sites (3)\n",
      "  #  SP       a     b     c    magmom\n",
      "---  ----  ----  ----  ----  --------\n",
      "  0  Y     0.5   0.5   0.5      0\n",
      "  1  Ni    0.25  0.25  0.25    -0.001\n",
      "  2  Sb    0     0     0       -0\n"
     ]
    }
   ],
   "source": [
    "from pymatgen.ext.matproj import MPRester\n",
    "from pymatgen.io.cif import CifWriter\n",
    "from pymatgen.symmetry.analyzer import SpacegroupAnalyzer\n",
    "\n",
    "structure = 0\n",
    "\n",
    "with MPRester('UqmxSipJO7BDQgI4') as m:\n",
    "    id = 'mp-11520'\n",
    "    structure = m.get_structure_by_material_id(id)\n",
    "print(structure)\n",
    "    \n"
   ]
  },
  {
   "cell_type": "code",
   "execution_count": 33,
   "id": "e45a2608",
   "metadata": {},
   "outputs": [
    {
     "data": {
      "application/vnd.jupyter.widget-view+json": {
       "model_id": "ba9df8a80267400584c26e10090bc370",
       "version_major": 2,
       "version_minor": 0
      },
      "text/plain": [
       "JsmolView(layout=Layout(align_self='stretch', height='400px'))"
      ]
     },
     "metadata": {},
     "output_type": "display_data"
    }
   ],
   "source": [
    "from jupyter_jsmol import JsmolView\n",
    "from ipywidgets import Layout, widgets, interact\n",
    "\n",
    "view1 = JsmolView.from_file(\"mp-11520_YNiSb.cif\", inline=True)\n",
    "view1\n",
    "\n"
   ]
  },
  {
   "cell_type": "raw",
   "id": "f1b71871",
   "metadata": {},
   "source": [
    "Tout d'abord, on peut observer un premier élément de symétrie avec une inversion par rapport à un centre pour l'atome mauve, donc l'atome de Sb. Les atomes de Y Cette symétrie s'effectue par rapport au centre situé en (0.25,0.25,0.25). Les atomes de Y en (0,0,0) et en (0.5,0,0.5) se retrouvent en effet en (0,0.5,0.5) et en (0.5,0.5,0)\n",
    "\n",
    "Ensuite, un autre élément de symétrie peut être la rélexion pour l'atome de Y. L'atome de Y situé en (0,0.5,0) est refléchi par rapport au plan de réflexion qui passe par les points (0.5,0,0),(0,0,0.5) et (0,0.5,0.5) pour donner le point (0.5,0.5,0.5)\n",
    "\n",
    "Un dernier élément de symétrie est la rotation pour l'atome de Ni. L'atome de Ni situé en (0.25,0.25,0.75) qui subit une rotation autour de l'axe de 120degré passant par les points (0,0,0) et (0.5,0,5,0.5) pour se retrouver en (0.75,0.25,0.25).  "
   ]
  },
  {
   "cell_type": "code",
   "execution_count": 28,
   "id": "ca7bdaf4",
   "metadata": {},
   "outputs": [
    {
     "data": {
      "application/vnd.jupyter.widget-view+json": {
       "model_id": "8c3c6c98f6614630b975ba9283424d27",
       "version_major": 2,
       "version_minor": 0
      },
      "text/plain": [
       "JsmolView(layout=Layout(align_self='stretch', height='400px'))"
      ]
     },
     "metadata": {},
     "output_type": "display_data"
    }
   ],
   "source": [
    "from ase.io import read\n",
    "\n",
    "atoms = read(\"mp-11520_YNiSb.cif\")\n",
    "atoms\n",
    "\n",
    "view2 = JsmolView.from_ase(atoms)\n",
    "display(view2)"
   ]
  },
  {
   "cell_type": "code",
   "execution_count": 30,
   "id": "bc85f353",
   "metadata": {},
   "outputs": [
    {
     "data": {
      "application/vnd.jupyter.widget-view+json": {
       "model_id": "973302373d9e4252b36bb9614f80e9b3",
       "version_major": 2,
       "version_minor": 0
      },
      "text/plain": [
       "JsmolView(layout=Layout(align_self='stretch', height='400px'))"
      ]
     },
     "metadata": {},
     "output_type": "display_data"
    }
   ],
   "source": [
    "view4 = JsmolView()\n",
    "display(view4)\n",
    "\n",
    "view4.load_file('mp-11520_YNiSb.cif', '{1 1 1}', 'unitcell {4.499705 4.499705 4.499705 60.0 60.0 60.0}', inline=True)"
   ]
  },
  {
   "cell_type": "code",
   "execution_count": null,
   "id": "ea02bc34",
   "metadata": {},
   "outputs": [],
   "source": []
  },
  {
   "cell_type": "code",
   "execution_count": null,
   "id": "dda24ee3",
   "metadata": {},
   "outputs": [],
   "source": []
  }
 ],
 "metadata": {
  "kernelspec": {
   "display_name": "Python 3",
   "language": "python",
   "name": "python3"
  },
  "language_info": {
   "codemirror_mode": {
    "name": "ipython",
    "version": 3
   },
   "file_extension": ".py",
   "mimetype": "text/x-python",
   "name": "python",
   "nbconvert_exporter": "python",
   "pygments_lexer": "ipython3",
   "version": "3.6.8"
  }
 },
 "nbformat": 4,
 "nbformat_minor": 5
}
